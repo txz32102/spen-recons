{
 "cells": [
  {
   "cell_type": "code",
   "execution_count": 11,
   "id": "04f16aa6",
   "metadata": {},
   "outputs": [],
   "source": [
    "import scipy.io as sio\n",
    "import torch\n",
    "from spenpy.spen import spen\n",
    "from scipy.io import savemat\n",
    "\n",
    "import matplotlib.pyplot as plt\n",
    "\n",
    "class physical_model:\n",
    "    def __init__(self, img_size=(96, 96)):\n",
    "        self.InvA, self.AFinal = spen(acq_point=img_size).get_InvA()\n",
    "    \n",
    "    def __call__(self, x, phase_map=None):\n",
    "        x = torch.matmul(self.AFinal * 1j, x)\n",
    "        if phase_map is not None:\n",
    "            x[:, 1::2, :] *= torch.exp(1j * phase_map)\n",
    "        return x\n",
    "    \n",
    "    def recons(self, x, phase_map=None):\n",
    "        if phase_map is not None:\n",
    "            x[:, 1::2, :] *= torch.exp(-1j * phase_map)\n",
    "        return torch.matmul(self.InvA, x)\n",
    "\n",
    "def get_demo(data_root=\"/home/data1/musong/workspace/2025/8/08-20/tr/test_data\", \n",
    "             id=\"IXI050-Guys-0711-T1_idx0025.mat\",\n",
    "             if_phase_map=False):\n",
    "    PM = physical_model()\n",
    "    if(if_phase_map):\n",
    "        phase_map = sio.loadmat(f\"{data_root}/phase_map/{id}\")\n",
    "        phase_map = phase_map[next(reversed(phase_map.keys()))]\n",
    "        phase_map = torch.tensor(phase_map, dtype=torch.complex64).unsqueeze(0)\n",
    "    \n",
    "    data = sio.loadmat(f\"{data_root}/hr/{id}\")\n",
    "    data = data[next(reversed(data.keys()))]\n",
    "    data = data / data.max()\n",
    "    data = torch.tensor(data, dtype=torch.complex64).unsqueeze(0)\n",
    "    \n",
    "\n",
    "    if if_phase_map:\n",
    "        lr = PM(data, phase_map=phase_map)  \n",
    "    else:\n",
    "        lr = PM(data)\n",
    "    \n",
    "    return data.squeeze().numpy(), lr.squeeze().numpy(), phase_map.squeeze().numpy()\n"
   ]
  },
  {
   "cell_type": "code",
   "execution_count": 12,
   "id": "69baad26",
   "metadata": {},
   "outputs": [],
   "source": [
    "id=\"IXI050-Guys-0711-T1_idx0025_from_pm\"\n",
    "path = \"/home/data1/musong/workspace/2025/8/08-20/tr/test_data\"\n",
    "data, lr, phase_map = get_demo(if_phase_map=True)\n",
    "savemat(f\"{path}/hr/{id}.mat\", {\"hr\": data})\n",
    "savemat(f\"{path}/lr/{id}.mat\", {\"lr\": lr})\n",
    "savemat(f\"{path}/phase_map/{id}.mat\", {\"phase_map\": phase_map})"
   ]
  }
 ],
 "metadata": {
  "kernelspec": {
   "display_name": "main",
   "language": "python",
   "name": "python3"
  },
  "language_info": {
   "codemirror_mode": {
    "name": "ipython",
    "version": 3
   },
   "file_extension": ".py",
   "mimetype": "text/x-python",
   "name": "python",
   "nbconvert_exporter": "python",
   "pygments_lexer": "ipython3",
   "version": "3.11.10"
  }
 },
 "nbformat": 4,
 "nbformat_minor": 5
}
